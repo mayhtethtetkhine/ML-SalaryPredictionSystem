{
 "cells": [
  {
   "cell_type": "code",
   "execution_count": 1,
   "id": "0817c919-ee9a-4e46-b5ba-7db7c101af91",
   "metadata": {},
   "outputs": [
    {
     "name": "stdout",
     "output_type": "stream",
     "text": [
      "Fold 1: Accuracy = 0.8214, Precision = 0.7901, Recall = 0.7781, F1 Score = 0.7841\n",
      "Fold 2: Accuracy = 0.8256, Precision = 0.7692, Recall = 0.8166, F1 Score = 0.7922\n",
      "Fold 3: Accuracy = 0.8203, Precision = 0.7598, Recall = 0.8473, F1 Score = 0.8012\n",
      "Fold 4: Accuracy = 0.8239, Precision = 0.7984, Recall = 0.7856, F1 Score = 0.7919\n",
      "Average Accuracy Across Folds: 0.8228\n",
      "Average Precision Across Folds: 0.7794\n",
      "Average Recall Across Folds: 0.8069\n",
      "Average F1 Score Across Folds: 0.7923\n"
     ]
    }
   ],
   "source": [
    "import pandas as pd\n",
    "from sklearn.model_selection import KFold\n",
    "from sklearn.metrics import accuracy_score, precision_score, recall_score, f1_score\n",
    "from sklearn.neural_network import MLPClassifier\n",
    "\n",
    "# Specify the number of folds (K)\n",
    "n_splits = 4  \n",
    "\n",
    "# Initialize K-Fold cross-validator\n",
    "kf = KFold(n_splits=n_splits, shuffle=True, random_state=42)\n",
    "\n",
    "data_train = pd.read_csv('./data/features.train.csv').set_index('id')\n",
    "data_validation = pd.read_csv('./data/features.test.csv').set_index('id')\n",
    "data_combined = pd.concat([data_train, data_validation])\n",
    "\n",
    "# Extract features and labels for training set\n",
    "X_train = data_combined.drop('label', axis=1)\n",
    "y_train = data_combined['label']\n",
    "\n",
    "# Extract features and labels for validation set\n",
    "X_validation = data_validation.drop('label', axis=1)\n",
    "y_validation = data_validation['label']\n",
    "\n",
    "\n",
    "model = MLPClassifier(\n",
    "    hidden_layer_sizes    = (17,8, 17), \n",
    "    solver                = 'sgd', \n",
    "    activation            = 'logistic', \n",
    "    alpha                 = 0.0029,\n",
    "    batch_size            = 36, \n",
    "    learning_rate         = 'constant',\n",
    "    learning_rate_init    = 0.12, \n",
    "    max_iter              = 1000,\n",
    "    momentum              = 0.0, \n",
    "    nesterovs_momentum    = False, \n",
    "    validation_fraction   = 0.2, \n",
    "    shuffle               = True,\n",
    "    random_state          = 0\n",
    ")\n",
    "\n",
    "# Lists to store evaluation metrics\n",
    "accuracy_scores = []\n",
    "precision_scores = []\n",
    "recall_scores = []\n",
    "f1_scores = []\n",
    "\n",
    "# Perform K-Fold cross-validation\n",
    "for train_index, test_index in kf.split(X_train):\n",
    "    X_train_fold, X_test_fold = X_train.iloc[train_index], X_train.iloc[test_index]\n",
    "    y_train_fold, y_test_fold = y_train.iloc[train_index], y_train.iloc[test_index]\n",
    "\n",
    "    # Train model on the training set\n",
    "    model.fit(X_train_fold, y_train_fold)\n",
    "\n",
    "    # Make predictions on the test set\n",
    "    y_pred_fold = model.predict(X_test_fold)\n",
    "\n",
    "\n",
    "    # Evaluate the model's performance\n",
    "    accuracy_fold = accuracy_score(y_test_fold, y_pred_fold)\n",
    "    precision_fold = precision_score(y_test_fold, y_pred_fold)\n",
    "    recall_fold = recall_score(y_test_fold, y_pred_fold)\n",
    "    f1_fold = f1_score(y_test_fold, y_pred_fold)\n",
    "\n",
    "    accuracy_scores.append(accuracy_fold)\n",
    "    precision_scores.append(precision_fold)\n",
    "    recall_scores.append(recall_fold)\n",
    "    f1_scores.append(f1_fold)\n",
    "\n",
    "# Print the evaluation metrics for each fold\n",
    "for fold, accuracy, precision, recall, f1 in zip(range(1, n_splits + 1), accuracy_scores, precision_scores, recall_scores, f1_scores):\n",
    "    print(f'Fold {fold}: Accuracy = {accuracy:.4f}, Precision = {precision:.4f}, Recall = {recall:.4f}, F1 Score = {f1:.4f}')\n",
    "\n",
    "# Print the average evaluation metrics across all folds\n",
    "average_accuracy = sum(accuracy_scores) / n_splits\n",
    "average_precision = sum(precision_scores) / n_splits\n",
    "average_recall = sum(recall_scores) / n_splits\n",
    "average_f1 = sum(f1_scores) / n_splits\n",
    "print(f'Average Accuracy Across Folds: {average_accuracy:.4f}')\n",
    "print(f'Average Precision Across Folds: {average_precision:.4f}')\n",
    "print(f'Average Recall Across Folds: {average_recall:.4f}')\n",
    "print(f'Average F1 Score Across Folds: {average_f1:.4f}')\n"
   ]
  },
  {
   "cell_type": "code",
   "execution_count": 2,
   "id": "fcfa405d-9433-41e6-8159-28b624a860fe",
   "metadata": {},
   "outputs": [
    {
     "data": {
      "text/plain": [
       "(20900, 88)"
      ]
     },
     "execution_count": 2,
     "metadata": {},
     "output_type": "execute_result"
    }
   ],
   "source": [
    "X_train.shape"
   ]
  }
 ],
 "metadata": {
  "kernelspec": {
   "display_name": "Python 3 (ipykernel)",
   "language": "python",
   "name": "python3"
  },
  "language_info": {
   "codemirror_mode": {
    "name": "ipython",
    "version": 3
   },
   "file_extension": ".py",
   "mimetype": "text/x-python",
   "name": "python",
   "nbconvert_exporter": "python",
   "pygments_lexer": "ipython3",
   "version": "3.11.5"
  }
 },
 "nbformat": 4,
 "nbformat_minor": 5
}
